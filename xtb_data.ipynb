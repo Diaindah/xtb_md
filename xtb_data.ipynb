{
  "nbformat": 4,
  "nbformat_minor": 0,
  "metadata": {
    "colab": {
      "provenance": [],
      "include_colab_link": true
    },
    "kernelspec": {
      "name": "python3",
      "display_name": "Python 3"
    },
    "language_info": {
      "name": "python"
    }
  },
  "cells": [
    {
      "cell_type": "markdown",
      "metadata": {
        "id": "view-in-github",
        "colab_type": "text"
      },
      "source": [
        "<a href=\"https://colab.research.google.com/github/purnawanpp/xtb_md/blob/main/xtb_data.ipynb\" target=\"_parent\"><img src=\"https://colab.research.google.com/assets/colab-badge.svg\" alt=\"Open In Colab\"/></a>"
      ]
    },
    {
      "cell_type": "code",
      "source": [
        "!wget https://github.com/purnawanpp/pilocarpine/raw/main/xtb.trj"
      ],
      "metadata": {
        "id": "Et7DqWbkxT1T",
        "colab": {
          "base_uri": "https://localhost:8080/"
        },
        "outputId": "d4d1e6e9-7331-428e-c76d-ada04a5650cc"
      },
      "execution_count": 1,
      "outputs": [
        {
          "output_type": "stream",
          "name": "stdout",
          "text": [
            "--2023-03-30 16:28:12--  https://github.com/purnawanpp/pilocarpine/raw/main/xtb.trj\n",
            "Resolving github.com (github.com)... 140.82.112.3\n",
            "Connecting to github.com (github.com)|140.82.112.3|:443... connected.\n",
            "HTTP request sent, awaiting response... 302 Found\n",
            "Location: https://raw.githubusercontent.com/purnawanpp/pilocarpine/main/xtb.trj [following]\n",
            "--2023-03-30 16:28:13--  https://raw.githubusercontent.com/purnawanpp/pilocarpine/main/xtb.trj\n",
            "Resolving raw.githubusercontent.com (raw.githubusercontent.com)... 185.199.108.133, 185.199.109.133, 185.199.110.133, ...\n",
            "Connecting to raw.githubusercontent.com (raw.githubusercontent.com)|185.199.108.133|:443... connected.\n",
            "HTTP request sent, awaiting response... 200 OK\n",
            "Length: 4708798 (4.5M) [text/plain]\n",
            "Saving to: ‘xtb.trj’\n",
            "\n",
            "xtb.trj             100%[===================>]   4.49M  --.-KB/s    in 0.05s   \n",
            "\n",
            "2023-03-30 16:28:14 (81.8 MB/s) - ‘xtb.trj’ saved [4708798/4708798]\n",
            "\n"
          ]
        }
      ]
    },
    {
      "cell_type": "code",
      "source": [
        "import pandas as pd\n",
        "\n",
        "# membaca file\n",
        "df = pd.read_csv('/content/xtb.trj', header=None)\n",
        "\n",
        "# menghapus baris yang mengandung kata \"energy\"\n",
        "df = df[~df[0].str.contains('energy')]\n",
        "\n",
        "# menyimpan hasil ke file baru\n",
        "df.to_csv('data.trj', index=False, header=False)"
      ],
      "metadata": {
        "id": "4Z-NmVE9A43-"
      },
      "execution_count": 2,
      "outputs": []
    },
    {
      "cell_type": "code",
      "source": [
        "# Import library yang dibutuhkan\n",
        "import os\n",
        "\n",
        "# Membaca isi file data.trj\n",
        "with open('/content/data.trj', 'r') as f:\n",
        "    contents = f.read()\n",
        "\n",
        "# Memisahkan konformasi berdasarkan angka 57\n",
        "conformations = contents.split('\\n57\\n')\n",
        "\n",
        "# Membuat folder untuk menyimpan setiap konformasi\n",
        "if not os.path.exists('conformations'):\n",
        "    os.makedirs('conformations')\n",
        "\n",
        "# Menyimpan setiap konformasi dalam file terpisah\n",
        "for i, conformation in enumerate(conformations):\n",
        "    # Menambahkan kembali angka 57 ke setiap konformasi\n",
        "    conformation = f'57\\n\\n{conformation}'\n",
        "    # Menuliskan setiap konformasi dalam file terpisah dengan nama yang sesuai\n",
        "    with open(f'conformations/conformation_{i+1}.xyz', 'w') as f:\n",
        "        f.write(conformation)"
      ],
      "metadata": {
        "id": "5FWSq4f07nHn"
      },
      "execution_count": 13,
      "outputs": []
    },
    {
      "cell_type": "code",
      "source": [
        "import shutil\n",
        "import os\n",
        "from google.colab import files\n",
        "\n",
        "# Membuat file zip\n",
        "shutil.make_archive('conformations', 'zip', '/content/conformations')\n",
        "\n",
        "# Mengunduh file zip\n",
        "files.download('conformations.zip')"
      ],
      "metadata": {
        "id": "HIKxFpErXqnb",
        "outputId": "145b2a0d-7f92-4585-e552-297ae5b4383a",
        "colab": {
          "base_uri": "https://localhost:8080/",
          "height": 17
        }
      },
      "execution_count": 15,
      "outputs": [
        {
          "output_type": "display_data",
          "data": {
            "text/plain": [
              "<IPython.core.display.Javascript object>"
            ],
            "application/javascript": [
              "\n",
              "    async function download(id, filename, size) {\n",
              "      if (!google.colab.kernel.accessAllowed) {\n",
              "        return;\n",
              "      }\n",
              "      const div = document.createElement('div');\n",
              "      const label = document.createElement('label');\n",
              "      label.textContent = `Downloading \"${filename}\": `;\n",
              "      div.appendChild(label);\n",
              "      const progress = document.createElement('progress');\n",
              "      progress.max = size;\n",
              "      div.appendChild(progress);\n",
              "      document.body.appendChild(div);\n",
              "\n",
              "      const buffers = [];\n",
              "      let downloaded = 0;\n",
              "\n",
              "      const channel = await google.colab.kernel.comms.open(id);\n",
              "      // Send a message to notify the kernel that we're ready.\n",
              "      channel.send({})\n",
              "\n",
              "      for await (const message of channel.messages) {\n",
              "        // Send a message to notify the kernel that we're ready.\n",
              "        channel.send({})\n",
              "        if (message.buffers) {\n",
              "          for (const buffer of message.buffers) {\n",
              "            buffers.push(buffer);\n",
              "            downloaded += buffer.byteLength;\n",
              "            progress.value = downloaded;\n",
              "          }\n",
              "        }\n",
              "      }\n",
              "      const blob = new Blob(buffers, {type: 'application/binary'});\n",
              "      const a = document.createElement('a');\n",
              "      a.href = window.URL.createObjectURL(blob);\n",
              "      a.download = filename;\n",
              "      div.appendChild(a);\n",
              "      a.click();\n",
              "      div.remove();\n",
              "    }\n",
              "  "
            ]
          },
          "metadata": {}
        },
        {
          "output_type": "display_data",
          "data": {
            "text/plain": [
              "<IPython.core.display.Javascript object>"
            ],
            "application/javascript": [
              "download(\"download_30f69992-f93a-407e-8d46-8854095e9aa2\", \"conformations.zip\", 1919373)"
            ]
          },
          "metadata": {}
        }
      ]
    }
  ]
}