{
  "nbformat": 4,
  "nbformat_minor": 0,
  "metadata": {
    "colab": {
      "provenance": [],
      "include_colab_link": true
    },
    "kernelspec": {
      "name": "python3",
      "display_name": "Python 3"
    },
    "language_info": {
      "name": "python"
    }
  },
  "cells": [
    {
      "cell_type": "markdown",
      "metadata": {
        "id": "view-in-github",
        "colab_type": "text"
      },
      "source": [
        "<a href=\"https://colab.research.google.com/github/purnawanpp/xtb_md/blob/main/xtb_data.ipynb\" target=\"_parent\"><img src=\"https://colab.research.google.com/assets/colab-badge.svg\" alt=\"Open In Colab\"/></a>"
      ]
    },
    {
      "cell_type": "code",
      "source": [
        "!wget https://github.com/purnawanpp/pilocarpine/raw/main/xtb.trj"
      ],
      "metadata": {
        "id": "Et7DqWbkxT1T",
        "colab": {
          "base_uri": "https://localhost:8080/"
        },
        "outputId": "9cab0e9b-3e94-4d68-d5ff-01ec966bb62d"
      },
      "execution_count": 1,
      "outputs": [
        {
          "output_type": "stream",
          "name": "stdout",
          "text": [
            "--2023-03-30 15:27:25--  https://github.com/purnawanpp/pilocarpine/raw/main/xtb.trj\n",
            "Resolving github.com (github.com)... 140.82.112.4\n",
            "Connecting to github.com (github.com)|140.82.112.4|:443... connected.\n",
            "HTTP request sent, awaiting response... 302 Found\n",
            "Location: https://raw.githubusercontent.com/purnawanpp/pilocarpine/main/xtb.trj [following]\n",
            "--2023-03-30 15:27:25--  https://raw.githubusercontent.com/purnawanpp/pilocarpine/main/xtb.trj\n",
            "Resolving raw.githubusercontent.com (raw.githubusercontent.com)... 185.199.110.133, 185.199.109.133, 185.199.111.133, ...\n",
            "Connecting to raw.githubusercontent.com (raw.githubusercontent.com)|185.199.110.133|:443... connected.\n",
            "HTTP request sent, awaiting response... 200 OK\n",
            "Length: 4708798 (4.5M) [text/plain]\n",
            "Saving to: ‘xtb.trj’\n",
            "\n",
            "xtb.trj             100%[===================>]   4.49M  --.-KB/s    in 0.02s   \n",
            "\n",
            "2023-03-30 15:27:26 (187 MB/s) - ‘xtb.trj’ saved [4708798/4708798]\n",
            "\n"
          ]
        }
      ]
    },
    {
      "cell_type": "code",
      "source": [
        "import pandas as pd\n",
        "\n",
        "# membaca file\n",
        "df = pd.read_csv('/content/xtb.trj', header=None)\n",
        "\n",
        "# menghapus baris yang mengandung kata \"energy\"\n",
        "df = df[~df[0].str.contains('energy')]\n",
        "\n",
        "# menyimpan hasil ke file baru\n",
        "df.to_csv('data.trj', index=False, header=False)"
      ],
      "metadata": {
        "id": "4Z-NmVE9A43-"
      },
      "execution_count": 2,
      "outputs": []
    },
    {
      "cell_type": "code",
      "source": [
        "# Import library yang dibutuhkan\n",
        "import os\n",
        "\n",
        "# Membaca isi file data.trj\n",
        "with open('/content/data.trj', 'r') as f:\n",
        "    contents = f.read()\n",
        "\n",
        "# Memisahkan konformasi berdasarkan angka 57\n",
        "conformations = contents.split('\\n57\\n')\n",
        "\n",
        "# Membuat folder untuk menyimpan setiap konformasi\n",
        "if not os.path.exists('conformations'):\n",
        "    os.makedirs('conformations')\n",
        "\n",
        "# Menyimpan setiap konformasi dalam file terpisah\n",
        "for i, conformation in enumerate(conformations):\n",
        "    # Menambahkan kembali angka 57 ke setiap konformasi\n",
        "    conformation = f'57\\n\\n{conformation}'\n",
        "    # Menuliskan setiap konformasi dalam file terpisah dengan nama yang sesuai\n",
        "    with open(f'conformations/conformation_{i+1}.xyz', 'w') as f:\n",
        "        f.write(conformation)\n"
      ],
      "metadata": {
        "id": "5FWSq4f07nHn"
      },
      "execution_count": 5,
      "outputs": []
    },
    {
      "cell_type": "code",
      "source": [],
      "metadata": {
        "id": "BAebbT1VK0OS"
      },
      "execution_count": null,
      "outputs": []
    }
  ]
}