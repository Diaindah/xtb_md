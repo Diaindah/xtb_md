{
  "nbformat": 4,
  "nbformat_minor": 0,
  "metadata": {
    "colab": {
      "provenance": [],
      "include_colab_link": true
    },
    "kernelspec": {
      "name": "python3",
      "display_name": "Python 3"
    },
    "language_info": {
      "name": "python"
    }
  },
  "cells": [
    {
      "cell_type": "markdown",
      "metadata": {
        "id": "view-in-github",
        "colab_type": "text"
      },
      "source": [
        "<a href=\"https://colab.research.google.com/github/purnawanpp/xtb_md/blob/main/rmsd.ipynb\" target=\"_parent\"><img src=\"https://colab.research.google.com/assets/colab-badge.svg\" alt=\"Open In Colab\"/></a>"
      ]
    },
    {
      "cell_type": "code",
      "source": [
        "!wget https://github.com/purnawanpp/xtb_md/raw/main/xtb.xyz\n",
        "!wget https://github.com/purnawanpp/xtb_md/raw/main/initial.xyz"
      ],
      "metadata": {
        "id": "Et7DqWbkxT1T",
        "colab": {
          "base_uri": "https://localhost:8080/"
        },
        "outputId": "ee252f40-d32b-4eb3-a4e6-bc4cd6e3a17e"
      },
      "execution_count": 24,
      "outputs": [
        {
          "output_type": "stream",
          "name": "stdout",
          "text": [
            "--2023-03-30 17:37:00--  https://github.com/purnawanpp/xtb_md/raw/main/xtb.xyz\n",
            "Resolving github.com (github.com)... 140.82.112.4\n",
            "Connecting to github.com (github.com)|140.82.112.4|:443... connected.\n",
            "HTTP request sent, awaiting response... 302 Found\n",
            "Location: https://raw.githubusercontent.com/purnawanpp/xtb_md/main/xtb.xyz [following]\n",
            "--2023-03-30 17:37:00--  https://raw.githubusercontent.com/purnawanpp/xtb_md/main/xtb.xyz\n",
            "Resolving raw.githubusercontent.com (raw.githubusercontent.com)... 185.199.111.133, 185.199.108.133, 185.199.109.133, ...\n",
            "Connecting to raw.githubusercontent.com (raw.githubusercontent.com)|185.199.111.133|:443... connected.\n",
            "HTTP request sent, awaiting response... 200 OK\n",
            "Length: 4708798 (4.5M) [text/plain]\n",
            "Saving to: ‘xtb.xyz.1’\n",
            "\n",
            "xtb.xyz.1           100%[===================>]   4.49M  --.-KB/s    in 0.07s   \n",
            "\n",
            "2023-03-30 17:37:01 (60.7 MB/s) - ‘xtb.xyz.1’ saved [4708798/4708798]\n",
            "\n",
            "--2023-03-30 17:37:01--  https://github.com/purnawanpp/xtb_md/raw/main/initial.xyz\n",
            "Resolving github.com (github.com)... 140.82.113.4\n",
            "Connecting to github.com (github.com)|140.82.113.4|:443... connected.\n",
            "HTTP request sent, awaiting response... 302 Found\n",
            "Location: https://raw.githubusercontent.com/purnawanpp/xtb_md/main/initial.xyz [following]\n",
            "--2023-03-30 17:37:01--  https://raw.githubusercontent.com/purnawanpp/xtb_md/main/initial.xyz\n",
            "Resolving raw.githubusercontent.com (raw.githubusercontent.com)... 185.199.108.133, 185.199.111.133, 185.199.110.133, ...\n",
            "Connecting to raw.githubusercontent.com (raw.githubusercontent.com)|185.199.108.133|:443... connected.\n",
            "HTTP request sent, awaiting response... 200 OK\n",
            "Length: 2856 (2.8K) [text/plain]\n",
            "Saving to: ‘initial.xyz.1’\n",
            "\n",
            "initial.xyz.1       100%[===================>]   2.79K  --.-KB/s    in 0s      \n",
            "\n",
            "2023-03-30 17:37:01 (38.4 MB/s) - ‘initial.xyz.1’ saved [2856/2856]\n",
            "\n"
          ]
        }
      ]
    },
    {
      "cell_type": "code",
      "source": [
        "!apt install openbabel"
      ],
      "metadata": {
        "colab": {
          "base_uri": "https://localhost:8080/"
        },
        "id": "zLNTqHXIjVY3",
        "outputId": "931ae86b-a9eb-4800-860d-f05e9d92faff"
      },
      "execution_count": 25,
      "outputs": [
        {
          "output_type": "stream",
          "name": "stdout",
          "text": [
            "Reading package lists... Done\n",
            "Building dependency tree       \n",
            "Reading state information... Done\n",
            "openbabel is already the newest version (3.0.0+dfsg-3ubuntu3).\n",
            "0 upgraded, 0 newly installed, 0 to remove and 23 not upgraded.\n"
          ]
        }
      ]
    },
    {
      "cell_type": "code",
      "source": [
        "!obrms -f initial.xyz xtb.xyz > data.txt\n",
        "!awk '{print $NF}' data.txt > plot.dat"
      ],
      "metadata": {
        "id": "YPKwI1GVlcbk"
      },
      "execution_count": 33,
      "outputs": []
    }
  ]
}